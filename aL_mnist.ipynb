{
 "cells": [
  {
   "cell_type": "code",
   "execution_count": 1,
   "metadata": {},
   "outputs": [
    {
     "name": "stderr",
     "output_type": "stream",
     "text": [
      "2023-08-01 23:10:44.342319: I tensorflow/core/util/port.cc:110] oneDNN custom operations are on. You may see slightly different numerical results due to floating-point round-off errors from different computation orders. To turn them off, set the environment variable `TF_ENABLE_ONEDNN_OPTS=0`.\n",
      "2023-08-01 23:10:44.344491: I tensorflow/tsl/cuda/cudart_stub.cc:28] Could not find cuda drivers on your machine, GPU will not be used.\n",
      "2023-08-01 23:10:44.388614: I tensorflow/tsl/cuda/cudart_stub.cc:28] Could not find cuda drivers on your machine, GPU will not be used.\n",
      "2023-08-01 23:10:44.389431: I tensorflow/core/platform/cpu_feature_guard.cc:182] This TensorFlow binary is optimized to use available CPU instructions in performance-critical operations.\n",
      "To enable the following instructions: AVX2 AVX512F AVX512_VNNI FMA, in other operations, rebuild TensorFlow with the appropriate compiler flags.\n",
      "2023-08-01 23:10:45.174058: W tensorflow/compiler/tf2tensorrt/utils/py_utils.cc:38] TF-TRT Warning: Could not find TensorRT\n"
     ]
    }
   ],
   "source": [
    "import numpy as np\n",
    "import matplotlib.pyplot as plt\n",
    "from sklearn.model_selection import train_test_split\n",
    "from sklearn.metrics import accuracy_score\n",
    "import tensorflow as tf\n",
    "from sklearn.linear_model import LogisticRegression\n",
    "from matplotlib.gridspec import GridSpec\n"
   ]
  },
  {
   "cell_type": "code",
   "execution_count": null,
   "metadata": {},
   "outputs": [],
   "source": [
    "# train_pool_X, train_pool_y), (test_X, test_y) = tf.keras.datasets.mnist.load_data()\n",
    "# train_X, Pool_X, train_y,  Pool_y = train_test_split(train_pool_X, train_pool_y, train_size=10, random_state=42)\n",
    "# print(train_X.shape, Pool_X.shape, train_y.shape, Pool_y.shape, test_X.shape, test_y.shape)\n"
   ]
  },
  {
   "cell_type": "code",
   "execution_count": null,
   "metadata": {},
   "outputs": [],
   "source": [
    "# train_pool_X = pool_X_train.reshape(train_pool_X.shape[0], -1)\n",
    "# train_X = train_X.reshape(train_X.shape[0], -1)\n",
    "# test_X = test_X.reshape(test_X.shape[0], -1)\n",
    "# Pool_X = Pool_X.reshape(Pool_X.shape[0], -1)\n",
    "# print(train_pool_X.shape, train_X.shape, test_X.shape, Pool_X.shape)"
   ]
  },
  {
   "cell_type": "code",
   "execution_count": 2,
   "metadata": {},
   "outputs": [
    {
     "name": "stdout",
     "output_type": "stream",
     "text": [
      "Train data shape: (9600, 28, 28, 1)\n",
      "Train labels shape: (9600,)\n",
      "Test data shape: (38400, 28, 28, 1)\n",
      "Test labels shape: (38400,)\n",
      "Test data shape: (12000, 28, 28, 1)\n",
      "Test labels shape: (12000,)\n"
     ]
    }
   ],
   "source": [
    "def split_dataset_with_equal_class_representation(train_data, train_labels, test_ratio=0.2):\n",
    "    classes = np.unique(train_labels)\n",
    "    num_classes = len(classes)\n",
    "\n",
    "    # Split data into class-specific subsets\n",
    "    class_data = [train_data[train_labels == c] for c in classes]\n",
    "\n",
    "    # Calculate the number of samples to include from each class in the test set\n",
    "    num_samples_per_class = int(len(train_data) * test_ratio / num_classes)\n",
    "\n",
    "    # Initialize train and test datasets\n",
    "    train_data_split = []\n",
    "    test_data_split = []\n",
    "    train_labels_split = []\n",
    "    test_labels_split = []\n",
    "\n",
    "    # Split data for each class\n",
    "    for c in range(num_classes):\n",
    "        data_c = class_data[c]\n",
    "        num_samples_test_c = min(num_samples_per_class, len(data_c))\n",
    "\n",
    "        # Randomly shuffle the data\n",
    "        np.random.shuffle(data_c)\n",
    "\n",
    "        # Split data for class c into train and test sets\n",
    "        train_data_c = data_c[:-num_samples_test_c]\n",
    "        test_data_c = data_c[-num_samples_test_c:]\n",
    "\n",
    "        # Assign labels for each split\n",
    "        train_labels_c = np.full(len(train_data_c), classes[c])\n",
    "        test_labels_c = np.full(len(test_data_c), classes[c])\n",
    "\n",
    "        # Append class-specific data to overall train and test datasets\n",
    "        train_data_split.append(train_data_c)\n",
    "        test_data_split.append(test_data_c)\n",
    "        train_labels_split.append(train_labels_c)\n",
    "        test_labels_split.append(test_labels_c)\n",
    "\n",
    "    # Concatenate class-specific data to create final train and test datasets\n",
    "    train_data_final = np.concatenate(train_data_split, axis=0)\n",
    "    test_data_final = np.concatenate(test_data_split, axis=0)\n",
    "    train_labels_final = np.concatenate(train_labels_split, axis=0)\n",
    "    test_labels_final = np.concatenate(test_labels_split, axis=0)\n",
    "\n",
    "    # Shuffle the data again to ensure randomness\n",
    "    train_indices = np.arange(len(train_data_final))\n",
    "    np.random.shuffle(train_indices)\n",
    "    train_data_final = train_data_final[train_indices]\n",
    "    train_labels_final = train_labels_final[train_indices]\n",
    "\n",
    "    test_indices = np.arange(len(test_data_final))\n",
    "    np.random.shuffle(test_indices)\n",
    "    test_data_final = test_data_final[test_indices]\n",
    "    test_labels_final = test_labels_final[test_indices]\n",
    "\n",
    "    return (train_data_final, train_labels_final), (test_data_final, test_labels_final)\n",
    "\n",
    "# Load MNIST dataset\n",
    "(train_data, train_labels), (_, _) = tf.keras.datasets.mnist.load_data()\n",
    "\n",
    "# Normalize the pixel values to [0, 1]\n",
    "train_data = train_data.astype('float32') / 255.0\n",
    "\n",
    "# Reshape the data to 4D tensor (number of samples, height, width, channels)\n",
    "train_data = np.expand_dims(train_data, axis=-1)\n",
    "\n",
    "# Split data into train and test sets with equal class representation\n",
    "(train_data, train_labels), (test_X, test_y) = split_dataset_with_equal_class_representation(train_data, train_labels, test_ratio=0.2)\n",
    "(train_X, train_y), (Pool_X, Pool_y) = split_dataset_with_equal_class_representation(train_data, train_labels, test_ratio=0.8)\n",
    "\n",
    "print(\"Train data shape:\", train_X.shape)\n",
    "print(\"Train labels shape:\", train_y.shape)\n",
    "print(\"Test data shape:\", Pool_X.shape)\n",
    "print(\"Test labels shape:\", Pool_y.shape)\n",
    "print(\"Test data shape:\", test_X.shape)\n",
    "print(\"Test labels shape:\", test_y.shape)"
   ]
  },
  {
   "cell_type": "code",
   "execution_count": null,
   "metadata": {},
   "outputs": [],
   "source": [
    "# train_pool_X, train_pool_y), (test_X, test_y) = tf.keras.datasets.mnist.load_data()\n",
    "# train_X, Pool_X, train_y,  Pool_y = train_test_split(train_pool_X, train_pool_y, train_size=10, random_state=42)\n",
    "# print(train_X.shape, Pool_X.shape, train_y.shape, Pool_y.shape, test_X.shape, test_y.shape)"
   ]
  },
  {
   "cell_type": "code",
   "execution_count": 3,
   "metadata": {},
   "outputs": [
    {
     "name": "stdout",
     "output_type": "stream",
     "text": [
      "(9600, 784) (12000, 784) (38400, 784)\n"
     ]
    }
   ],
   "source": [
    "\n",
    "train_X = train_X.reshape(train_X.shape[0], -1)\n",
    "test_X = test_X.reshape(test_X.shape[0], -1)\n",
    "Pool_X = Pool_X.reshape(Pool_X.shape[0], -1)\n",
    "print(train_X.shape, test_X.shape, Pool_X.shape)"
   ]
  },
  {
   "cell_type": "code",
   "execution_count": 4,
   "metadata": {},
   "outputs": [],
   "source": [
    "model = LogisticRegression(max_iter=10000)\n"
   ]
  },
  {
   "cell_type": "code",
   "execution_count": null,
   "metadata": {},
   "outputs": [],
   "source": [
    "def add_random_samples(train_X, train_y, pool_X_train, pool_y_train, number_of_sample=1,seed=0):\n",
    "    np.random.seed(seed)\n",
    "    random_indices = np.random.choice(pool_X_train.shape[0], size=number_of_sample, replace=False)\n",
    "    labeled_X = pool_X_train[random_indices]\n",
    "    labeled_y = pool_y_train[random_indices]\n",
    "    train_X = np.concatenate((train_X, labeled_X), axis=0)\n",
    "    train_y = np.concatenate((train_y, labeled_y), axis=0)\n",
    "    pool_X_train = np.delete(pool_X_train, random_indices, axis=0)\n",
    "    pool_y_train = np.delete(pool_y_train, random_indices)\n",
    "    return train_X, train_y, pool_X_train, pool_y_train"
   ]
  },
  {
   "cell_type": "code",
   "execution_count": null,
   "metadata": {},
   "outputs": [],
   "source": [
    "def active_learning_sampling(train_X, train_y, pool_X_train, pool_y_train, pool_X_test, y_test,num_iterations=3, number_of_sample=1,seed=0):\n",
    "    accuracy_iteration = []\n",
    "    for _ in range(num_iterations):\n",
    "        model = LogisticRegression(max_iter=1000)\n",
    "        train_X, train_y, pool_X_train, pool_y_train = add_random_samples(train_X, train_y, pool_X_train, pool_y_train, number_of_sample,seed)\n",
    "        model.fit(train_X, train_y)\n",
    "        y_pred = model.predict(pool_X_test)\n",
    "        accuracy = accuracy_score(y_test, y_pred)\n",
    "        accuracy_iteration.append(accuracy)\n",
    "        \n",
    "    accuracy_iteration = np.array(accuracy_iteration)\n",
    "    mean_accuracy = np.mean(accuracy_iteration)\n",
    "    std_accuracy = np.std(accuracy_iteration)\n",
    "    return accuracy_iteration , mean_accuracy, std_accuracy"
   ]
  },
  {
   "cell_type": "code",
   "execution_count": null,
   "metadata": {},
   "outputs": [],
   "source": [
    "num_iterations = 50\n",
    "num_seeds = 50  \n",
    "iterations = range(1, num_iterations + 1)\n",
    "\n",
    "mean_accuracy_all_seeds = []\n",
    "std_accuracy_all_seeds = []\n",
    "\n",
    "for seed in range(42, 42 + num_seeds):\n",
    "    accuracy_after_random_sampling, _, _ = active_learning_sampling(train_X, train_y, Pool_X, Pool_y, test_X, test_y, num_iterations, 1, seed)\n",
    "    mean_accuracy_all_seeds.append(np.mean(accuracy_after_random_sampling))\n",
    "    std_accuracy_all_seeds.append(np.std(accuracy_after_random_sampling))\n",
    "\n",
    "mean_accuracy_all_seeds = np.array(mean_accuracy_all_seeds)\n",
    "std_accuracy_all_seeds = np.array(std_accuracy_all_seeds)\n",
    "mean_accuracy_all_seeds = np.round(mean_accuracy_all_seeds, 3)\n",
    "std_accuracy_all_seeds = np.round(std_accuracy_all_seeds, 3)\n",
    "print(mean_accuracy_all_seeds)\n",
    "print(std_accuracy_all_seeds)"
   ]
  },
  {
   "cell_type": "code",
   "execution_count": null,
   "metadata": {},
   "outputs": [],
   "source": [
    "plt.plot(iterations, mean_accuracy_all_seeds,color='red', label='Mean accuracy')\n",
    "plt.fill_between(iterations, mean_accuracy_all_seeds - std_accuracy_all_seeds, mean_accuracy_all_seeds + std_accuracy_all_seeds, alpha=0.3, color='gray', label='Standard deviation')\n",
    "plt.xlabel('Iterations')\n",
    "plt.ylabel('Accuracy')\n",
    "plt.grid()"
   ]
  },
  {
   "cell_type": "code",
   "execution_count": null,
   "metadata": {},
   "outputs": [],
   "source": [
    "def random_sample(p,number_of_sample=1):\n",
    "    num_samples = p.shape[0]\n",
    "    sample = np.random.choice(num_samples, size=number_of_sample, replace=False)\n",
    "    return sample"
   ]
  },
  {
   "cell_type": "code",
   "execution_count": 5,
   "metadata": {},
   "outputs": [],
   "source": [
    "def entropy(p):\n",
    "    # print((-np.sum(p * np.log2(p), axis=1)).shape)\n",
    "    return -np.sum(p * np.log2(p), axis=1)"
   ]
  },
  {
   "cell_type": "code",
   "execution_count": null,
   "metadata": {},
   "outputs": [],
   "source": [
    "def margin_sampling(probabilities):\n",
    "    sorted_probs = np.sort(probabilities, axis=1)\n",
    "    return (1 - np.max(probabilities, axis=1)) - sorted_probs[:, -2]"
   ]
  },
  {
   "cell_type": "code",
   "execution_count": null,
   "metadata": {},
   "outputs": [],
   "source": [
    "def least_confident(probabilities):\n",
    "    return 1 - np.max(probabilities, axis=1)"
   ]
  },
  {
   "cell_type": "code",
   "execution_count": 6,
   "metadata": {},
   "outputs": [],
   "source": [
    "\n",
    "def active_learning(train_X, train_y, pool_X_train, pool_y_train, pool_X_test, y_test, acquisition_function, num_iterations, number_of_sample=1):\n",
    "    new_indices_list = []\n",
    "    accuracy_iteration = []\n",
    "\n",
    "    for iter in range(num_iterations):\n",
    "        model = LogisticRegression(max_iter=10000)\n",
    "        model.fit(train_X, train_y)\n",
    "\n",
    "        pool_probabilities = model.predict_proba(pool_X_train)\n",
    "        # print(pool_probabilities)\n",
    "        if(iter==0):\n",
    "            print(pool_probabilities)\n",
    "        print(pool_probabilities.shape)\n",
    "        acquisition_scores = acquisition_function(pool_probabilities)\n",
    "        \n",
    "        selected_indices = np.argsort(acquisition_scores)[-number_of_sample:]\n",
    "\n",
    "        labeled_X = pool_X_train[selected_indices]\n",
    "        labeled_y = pool_y_train[selected_indices]\n",
    "        \n",
    "        new_indices_list.append(selected_indices)\n",
    "\n",
    "        train_X = np.concatenate((train_X, labeled_X), axis=0)\n",
    "        train_y = np.concatenate((train_y, labeled_y), axis=0)\n",
    "\n",
    "        pool_X_train = np.delete(pool_X_train, selected_indices, axis=0)\n",
    "        pool_y_train = np.delete(pool_y_train, selected_indices)\n",
    "        \n",
    "        \n",
    "        y_pred = model.predict(pool_X_test)\n",
    "        accuracy = accuracy_score(y_test, y_pred)\n",
    "        # print(\"Accuracy score after iteration {}: {:.4f} \".format(_ + 1, accuracy))\n",
    "\n",
    "        accuracy_iteration.append(accuracy)\n",
    "\n",
    "    return  accuracy_iteration , new_indices_list\n"
   ]
  },
  {
   "cell_type": "code",
   "execution_count": null,
   "metadata": {},
   "outputs": [],
   "source": [
    "accuracy_least_random,new_indices_list = active_learning(train_X, train_y, Pool_X, Pool_y, test_X, test_y, acquisition_function=entropy, num_iterations=9, number_of_sample=1)\n",
    "num_rows =  3\n",
    "num_cols = 3\n",
    "\n",
    "grid = GridSpec(num_rows, num_cols,figure=fig)\n",
    "fig = plt.figure(figsize=(8, 6))\n",
    "\n",
    "for i in range(num_rows):\n",
    "    for j in range(num_cols):\n",
    "        idx = new_indices_list[i * num_cols + j][0]\n",
    "        ax = fig.add_subplot(grid[i, j])\n",
    "        ax.imshow(Pool_X[idx].reshape(28, 28), cmap='gray') \n",
    "        ax.set_title(f'Iteration {i * num_cols + j + 1}, Index {idx}')\n",
    "        ax.axis('off')\n",
    "plt.tight_layout()\n"
   ]
  },
  {
   "cell_type": "code",
   "execution_count": null,
   "metadata": {},
   "outputs": [],
   "source": [
    "accuracy_least_random,new_indices_list1 = active_learning(train_X,train_y,Pool_X, Pool_y, test_X, test_y, acquisition_function=random_sample,\n",
    "                                                                                                 num_iterations=100,\n",
    "                                                                                                 number_of_sample=10)"
   ]
  },
  {
   "cell_type": "code",
   "execution_count": 9,
   "metadata": {},
   "outputs": [
    {
     "name": "stdout",
     "output_type": "stream",
     "text": [
      "[[2.13079647e-03 1.08251094e-04 2.81521655e-05 ... 1.08306566e-02\n",
      "  1.61751095e-03 8.50642192e-04]\n",
      " [1.96310957e-06 8.87863017e-08 6.80412966e-08 ... 5.88049187e-01\n",
      "  2.50416194e-05 7.59609438e-02]\n",
      " [1.42176930e-03 9.57306870e-04 1.34884857e-02 ... 1.48358345e-07\n",
      "  1.44929499e-03 1.35466782e-06]\n",
      " ...\n",
      " [9.99507383e-01 8.45314442e-12 7.43356307e-05 ... 5.74817956e-07\n",
      "  2.12643287e-04 4.24074941e-05]\n",
      " [1.12770948e-07 9.96543765e-01 2.12191108e-04 ... 1.31373183e-06\n",
      "  2.73312911e-03 2.00516003e-05]\n",
      " [8.11391890e-08 1.38918898e-15 2.22811556e-14 ... 9.88700009e-01\n",
      "  8.65115349e-07 1.12955172e-02]]\n",
      "(38400, 10)\n",
      "(38350, 10)\n",
      "(38300, 10)\n",
      "(38250, 10)\n",
      "(38200, 10)\n",
      "(38150, 10)\n",
      "(38100, 10)\n",
      "(38050, 10)\n",
      "(38000, 10)\n",
      "(37950, 10)\n",
      "(37900, 10)\n",
      "(37850, 10)\n",
      "(37800, 10)\n",
      "(37750, 10)\n",
      "(37700, 10)\n",
      "(37650, 10)\n",
      "(37600, 10)\n",
      "(37550, 10)\n",
      "(37500, 10)\n",
      "(37450, 10)\n",
      "(37400, 10)\n",
      "(37350, 10)\n",
      "(37300, 10)\n",
      "(37250, 10)\n",
      "(37200, 10)\n",
      "(37150, 10)\n",
      "(37100, 10)\n",
      "(37050, 10)\n",
      "(37000, 10)\n",
      "(36950, 10)\n",
      "(36900, 10)\n",
      "(36850, 10)\n",
      "(36800, 10)\n",
      "(36750, 10)\n",
      "(36700, 10)\n",
      "(36650, 10)\n",
      "(36600, 10)\n",
      "(36550, 10)\n",
      "(36500, 10)\n",
      "(36450, 10)\n",
      "(36400, 10)\n",
      "(36350, 10)\n",
      "(36300, 10)\n",
      "(36250, 10)\n",
      "(36200, 10)\n",
      "(36150, 10)\n",
      "(36100, 10)\n",
      "(36050, 10)\n",
      "(36000, 10)\n",
      "(35950, 10)\n"
     ]
    }
   ],
   "source": [
    "accuracy_least_entropy,new_indices_list2 = active_learning(train_X,train_y,Pool_X, Pool_y, test_X, test_y, acquisition_function=entropy,\n",
    "                                                                                                 num_iterations=50,\n",
    "                                                                                                 number_of_sample=50)"
   ]
  },
  {
   "cell_type": "code",
   "execution_count": null,
   "metadata": {},
   "outputs": [],
   "source": [
    "accuracy_least_margin,new_indices_list2 = active_learning(train_X,train_y,Pool_X, Pool_y, test_X, test_y,acquisition_function=margin_sampling,\n",
    "                                                                                                 num_iterations=100,\n",
    "                                                                                                 number_of_sample=10)"
   ]
  },
  {
   "cell_type": "code",
   "execution_count": null,
   "metadata": {},
   "outputs": [],
   "source": [
    "accuracy_confident,new_indices_list3 = active_learning(train_X,train_y,Pool_X, Pool_y, test_X, test_y,acquisition_function=least_confident,\n",
    "                                                                             num_iterations=100,\n",
    "                                                                             number_of_sample=10)"
   ]
  },
  {
   "cell_type": "code",
   "execution_count": 10,
   "metadata": {},
   "outputs": [
    {
     "data": {
      "image/png": "[encoded data removed]",
      "text/plain": [
       "<Figure size 640x480 with 1 Axes>"
      ]
     },
     "metadata": {},
     "output_type": "display_data"
    }
   ],
   "source": [
    "# plt.plot(range(1, len(accuracy_least_margin) + 1), accuracy_least_margin,label='Margin Sampling')\n",
    "plt.plot(range(1, len(accuracy_least_entropy) + 1), accuracy_least_entropy, label='entropy')\n",
    "# plt.plot(range(1, len(accuracy_confident) + 1), accuracy_confident,label='Least Confident')\n",
    "# plt.plot(range(1, len(accuracy_least_random) + 1), accuracy_least_random,label='Random Sampling')\n",
    "plt.xlabel('Iteration')\n",
    "plt.ylabel('Accuracy')\n",
    "plt.title('Accuracy during Active Learning')\n",
    "plt.legend();"
   ]
  },
  {
   "cell_type": "code",
   "execution_count": null,
   "metadata": {},
   "outputs": [],
   "source": [
    "def enable_dropout(m):\n",
    "    if type(m) == mod"
   ]
  }
 ],
 "metadata": {
  "kernelspec": {
   "display_name": "torch_gpu",
   "language": "python",
   "name": "python3"
  },
  "language_info": {
   "codemirror_mode": {
    "name": "ipython",
    "version": 3
   },
   "file_extension": ".py",
   "mimetype": "text/x-python",
   "name": "python",
   "nbconvert_exporter": "python",
   "pygments_lexer": "ipython3",
   "version": "3.10.12"
  },
  "orig_nbformat": 4
 },
 "nbformat": 4,
 "nbformat_minor": 2
}
