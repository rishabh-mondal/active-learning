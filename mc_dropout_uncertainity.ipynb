{
 "cells": [
  {
   "cell_type": "code",
   "execution_count": 10,
   "metadata": {},
   "outputs": [
    {
     "name": "stderr",
     "output_type": "stream",
     "text": [
      "2023-08-01 02:55:20.230902: I tensorflow/core/util/port.cc:110] oneDNN custom operations are on. You may see slightly different numerical results due to floating-point round-off errors from different computation orders. To turn them off, set the environment variable `TF_ENABLE_ONEDNN_OPTS=0`.\n",
      "2023-08-01 02:55:20.282918: I tensorflow/core/platform/cpu_feature_guard.cc:182] This TensorFlow binary is optimized to use available CPU instructions in performance-critical operations.\n",
      "To enable the following instructions: AVX2 AVX512F AVX512_VNNI FMA, in other operations, rebuild TensorFlow with the appropriate compiler flags.\n",
      "2023-08-01 02:55:21.196428: W tensorflow/compiler/tf2tensorrt/utils/py_utils.cc:38] TF-TRT Warning: Could not find TensorRT\n"
     ]
    }
   ],
   "source": [
    "import torch \n",
    "import torch.nn as nn\n",
    "import torch.nn.functional as F\n",
    "import torch.optim as optim\n",
    "import numpy as np\n",
    "import tensorflow as tf\n",
    "from sklearn.model_selection import train_test_split\n",
    "\n"
   ]
  },
  {
   "cell_type": "code",
   "execution_count": 11,
   "metadata": {},
   "outputs": [
    {
     "name": "stdout",
     "output_type": "stream",
     "text": [
      "(50, 28, 28) (59950, 28, 28) (50,) (59950,) (10000, 28, 28) (10000,)\n",
      "(60000, 784) (50, 784) (10000, 784) (59950, 784)\n"
     ]
    }
   ],
   "source": [
    "(train_pool_X, train_pool_y), (test_X, test_y) = tf.keras.datasets.mnist.load_data()\n",
    "train_X, Pool_X, train_y,  Pool_y = train_test_split(train_pool_X, train_pool_y, train_size=50, random_state=42)\n",
    "print(train_X.shape, Pool_X.shape, train_y.shape, Pool_y.shape, test_X.shape, test_y.shape)\n",
    "train_pool_X = train_pool_X.reshape(train_pool_X.shape[0], -1)\n",
    "train_X = train_X.reshape(train_X.shape[0], -1)\n",
    "test_X = test_X.reshape(test_X.shape[0], -1)\n",
    "Pool_X = Pool_X.reshape(Pool_X.shape[0], -1)\n",
    "print(train_pool_X.shape, train_X.shape, test_X.shape, Pool_X.shape)"
   ]
  },
  {
   "cell_type": "code",
   "execution_count": 12,
   "metadata": {},
   "outputs": [],
   "source": [
    "class SimpleNN(nn.Module):\n",
    "    def __init__(self,input_size,hidden_size,num_classes):\n",
    "        super(SimpleNN,self).__init__()\n",
    "        self.fc1 = nn.Linear(input_size,hidden_size)\n",
    "        self.relu = nn.ReLU()\n",
    "        self.fc2 = nn.Linear(hidden_size,num_classes)\n",
    "        self.dropout = nn.Dropout(0.5)\n",
    "\n",
    "    def forward(self,x):\n",
    "        out = self.fc1(x)\n",
    "        out = self.relu(out)\n",
    "        out = self.dropout(out)\n",
    "        out = self.fc2(out)\n",
    "        return out\n"
   ]
  },
  {
   "cell_type": "code",
   "execution_count": 13,
   "metadata": {},
   "outputs": [],
   "source": [
    "def mc_dropout_predictions(model, X, num_samples=10):\n",
    "    model.train()\n",
    "    predictions = []\n",
    "    with torch.no_grad():\n",
    "        for _ in range(num_samples):\n",
    "            output = model(X)\n",
    "            predictions.append(output.softmax(dim=1).cpu().numpy())\n",
    "    return np.array(predictions)"
   ]
  },
  {
   "cell_type": "code",
   "execution_count": 14,
   "metadata": {},
   "outputs": [],
   "source": [
    "def entropy(p):\n",
    "    return -np.sum(p * np.log2(p), axis=1)"
   ]
  },
  {
   "cell_type": "code",
   "execution_count": 15,
   "metadata": {},
   "outputs": [],
   "source": [
    "def calculate_accuracy(model, test_X, test_y):\n",
    "    model.eval() \n",
    "    with torch.no_grad():\n",
    "        test_X_tensor = torch.Tensor(test_X).to(torch.float32)\n",
    "        outputs = model(test_X_tensor)\n",
    "        _, predicted_labels = torch.max(outputs, 1)\n",
    "        correct = (predicted_labels == torch.Tensor(test_y)).sum().item()\n",
    "        total = len(test_y)\n",
    "        accuracy = correct / total\n",
    "        print('Accuracy: %.2f' % (accuracy*100))\n",
    "    return accuracy"
   ]
  },
  {
   "cell_type": "code",
   "execution_count": 16,
   "metadata": {},
   "outputs": [],
   "source": [
    "def active_learning_mc_dropout(train_X, train_y, pool_X_train, pool_y_train, pool_X_test, y_test, num_iterations, num_samples=10):\n",
    "    model=SimpleNN(dropout_prob=0.3)\n",
    "    optimizer = torch.optim.Adam(model.parameters(), lr=0.001)\n",
    "    criterion = nn.CrossEntropyLoss()\n",
    "    accuracy_list = []\n",
    "    new_indices = []\n",
    "    for i in range(num_iterations):\n",
    "        model.train()\n",
    "        optimizer.zero_grad() \n",
    "        output = mc_dropout_predictions(model,torch.Tensor(pool_X_train), num_samples)\n",
    "        uncertainty = np.var(output, axis=0).sum(axis=1)\n",
    "        new_index = np.argsort(uncertainty)[-1:]\n",
    "        new_indices.append(new_index)\n",
    "        label_X = pool_X_train[new_index]\n",
    "        label_y = pool_y_train[new_index]\n",
    "        train_X = np.concatenate((train_X, label_X), axis=0)\n",
    "        train_y = np.concatenate((train_y, label_y), axis=0)\n",
    "        pool_X_train = np.delete(pool_X_train, new_index, axis=0)\n",
    "        pool_y_train = np.delete(pool_y_train, new_index)\n",
    "        train_X_tensor = torch.Tensor(train_X)\n",
    "        train_y_tensor = torch.Tensor(train_y)\n",
    "        output = model(train_X_tensor)\n",
    "        loss = criterion(output, train_y_tensor)\n",
    "        loss.backward()\n",
    "        optimizer.step()\n",
    "        accuracy = calculate_accuracy(model, pool_X_test, y_test)\n",
    "        accuracy_list.append(accuracy)\n",
    "    \n",
    "    return  accuracy_list,new_indices       "
   ]
  },
  {
   "cell_type": "code",
   "execution_count": 17,
   "metadata": {},
   "outputs": [
    {
     "ename": "NameError",
     "evalue": "name 'pool_X' is not defined",
     "output_type": "error",
     "traceback": [
      "\u001b[0;31m---------------------------------------------------------------------------\u001b[0m",
      "\u001b[0;31mNameError\u001b[0m                                 Traceback (most recent call last)",
      "Cell \u001b[0;32mIn[17], line 1\u001b[0m\n\u001b[0;32m----> 1\u001b[0m accuracy,new_indices_list_mc_dropout \u001b[39m=\u001b[39m active_learning_mc_dropout(train_X, train_y, pool_X, pool_y, test_X, test_y, num_iterations, num_samples_mc_dropout)\n",
      "\u001b[0;31mNameError\u001b[0m: name 'pool_X' is not defined"
     ]
    }
   ],
   "source": [
    "accuracy,new_indices_list_mc_dropout = active_learning_mc_dropout(train_X, train_y, pool_X, pool_y, test_X, test_y, num_iterations, num_samples_mc_dropout)"
   ]
  },
  {
   "cell_type": "code",
   "execution_count": null,
   "metadata": {},
   "outputs": [],
   "source": []
  }
 ],
 "metadata": {
  "kernelspec": {
   "display_name": "torch_gpu",
   "language": "python",
   "name": "python3"
  },
  "language_info": {
   "codemirror_mode": {
    "name": "ipython",
    "version": 3
   },
   "file_extension": ".py",
   "mimetype": "text/x-python",
   "name": "python",
   "nbconvert_exporter": "python",
   "pygments_lexer": "ipython3",
   "version": "3.10.12"
  },
  "orig_nbformat": 4
 },
 "nbformat": 4,
 "nbformat_minor": 2
}
